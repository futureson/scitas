{
 "cells": [
  {
   "cell_type": "code",
   "execution_count": 2,
   "metadata": {},
   "outputs": [
    {
     "name": "stderr",
     "output_type": "stream",
     "text": [
      "c:\\Users\\qsun\\AppData\\Local\\anaconda3\\envs\\qsun\\Lib\\site-packages\\paramiko\\transport.py:219: CryptographyDeprecationWarning: Blowfish has been deprecated and will be removed in a future release\n",
      "  \"class\": algorithms.Blowfish,\n"
     ]
    }
   ],
   "source": [
    "# pip install paramiko, time, os, shutil\n",
    "import os\n",
    "import time\n",
    "import shutil\n",
    "import paramiko\n",
    "from func import *"
   ]
  },
  {
   "cell_type": "code",
   "execution_count": 3,
   "metadata": {},
   "outputs": [
    {
     "data": {
      "text/plain": [
       "'PCR-GLOBWB'"
      ]
     },
     "execution_count": 3,
     "metadata": {},
     "output_type": "execute_result"
    }
   ],
   "source": [
    "# define necessary variables\n",
    "\n",
    "# models\n",
    "gims = ['CWatM','LPJmL','PCR-GLOBWB','H08','WaterGAP2','MATSIRO']\n",
    "scenarios = ['historical','rcp26','rcp60','rcp85']\n",
    "crops = ['Wheat','Barley','Potato','SugarCane','Rice','Soy','Sorghum','Maize'] \n",
    "\n",
    "# paths for input data and res_output data directories\n",
    "gim_path_prefix = 'D:/WFP_simulations/CODE/ALL_elabs_ISIMIP/OutputData/water_global/'\n",
    "local_res_path = '/D/WFP_simulations/SIM_RESULTS/'\n",
    "\n",
    "# remote server login\n",
    "user = 'qsun'\n",
    "password='RCAVictor221'\n",
    "\n",
    "# define the gim need to run\n",
    "gim = gims[-4]\n",
    "gim"
   ]
  },
  {
   "cell_type": "code",
   "execution_count": 6,
   "metadata": {},
   "outputs": [
    {
     "name": "stdout",
     "output_type": "stream",
     "text": [
      "['Wheat', 'Barley', 'Potato', 'SugarCane', 'Rice', 'Soy', 'Sorghum', 'Maize']\n",
      "['historical', 'rcp26', 'rcp60', 'rcp85']\n"
     ]
    }
   ],
   "source": [
    "crops_torun = crops[0:]\n",
    "sces = scenarios[0:]\n",
    "print(crops_torun)\n",
    "print(sces)"
   ]
  },
  {
   "cell_type": "markdown",
   "metadata": {},
   "source": []
  },
  {
   "cell_type": "code",
   "execution_count": null,
   "metadata": {},
   "outputs": [],
   "source": [
    "rsync -avz /D/WFP_simulations/CODE/ALL_elabs_ISIMIP/OutputData/water_global/PCR-GLOBWB/ qsun@jed.epfl.ch:/scratch/qsun/CODE/ALL_elabs_ISIMIP/OutputData/water_global/PCR-GLOBWB"
   ]
  },
  {
   "cell_type": "code",
   "execution_count": 13,
   "metadata": {},
   "outputs": [
    {
     "name": "stdout",
     "output_type": "stream",
     "text": [
      "Download:\n",
      "rsync -avz qsun@jed.epfl.ch:/scratch/qsun/CODE/SIM_RESULTS/PCR-GLOBWB /D/WFP_simulations/SIM_RESULTS/\n",
      "\n",
      "Upload:\n",
      "rsync -avz /D/WFP_simulations/CODE/ALL_elabs_ISIMIP/OutputData/water_global/PCR-GLOBWB/ qsun@jed.epfl.ch:/scratch/qsun/CODE/ALL_elabs_ISIMIP/OutputData/water_global/PCR-GLOBWB\n"
     ]
    }
   ],
   "source": [
    "# Before running new gim, we need to\n",
    "# 1. download all results from the previous gim with the following command in the local git bash\n",
    "print('Download:')\n",
    "print(f'rsync -avz {user}@jed.epfl.ch:/scratch/{user}/CODE/SIM_RESULTS/{gim} {local_res_path}\\n')\n",
    "\n",
    "# 2. clear the previous gim results and Output folder with the following command in the scitas terminal\n",
    "# cd ~\n",
    "# mv slurm* *.job finished\n",
    "# rm -r /scratch/qsun/CODE/SIM_RESULTS/*\n",
    "# rm -r /scratch/qsun/CODE/ALL_elabs_ISIMIP/OutputData/water_global/*\n",
    "\n",
    "# 3. upload the new gim data with the following command in the local git bash\n",
    "remote_gim_path = f'{user}@jed.epfl.ch:/scratch/{user}/CODE/ALL_elabs_ISIMIP/OutputData/water_global/{gim}'\n",
    "print('Upload:')\n",
    "print(f'rsync -avz /D/WFP_simulations/CODE/ALL_elabs_ISIMIP/OutputData/water_global/{gim}/ {remote_gim_path}')\n"
   ]
  },
  {
   "cell_type": "code",
   "execution_count": 39,
   "metadata": {},
   "outputs": [
    {
     "name": "stdout",
     "output_type": "stream",
     "text": [
      "Remote data already exists\n",
      "SLURM job script 'torun/Whe_PCto.job' created successfully.\n",
      "SLURM job script 'torun/Whe_PC26.job' created successfully.\n",
      "SLURM job script 'torun/Whe_PC60.job' created successfully.\n",
      "SLURM job script 'torun/Whe_PC85.job' created successfully.\n",
      "SLURM job script 'torun/Bar_PCto.job' created successfully.\n",
      "SLURM job script 'torun/Bar_PC26.job' created successfully.\n",
      "SLURM job script 'torun/Bar_PC60.job' created successfully.\n",
      "SLURM job script 'torun/Bar_PC85.job' created successfully.\n",
      "SLURM job script 'torun/Pot_PCto.job' created successfully.\n",
      "SLURM job script 'torun/Pot_PC26.job' created successfully.\n",
      "SLURM job script 'torun/Pot_PC60.job' created successfully.\n",
      "SLURM job script 'torun/Pot_PC85.job' created successfully.\n",
      "SLURM job script 'torun/Sug_PCto.job' created successfully.\n",
      "SLURM job script 'torun/Sug_PC26.job' created successfully.\n",
      "SLURM job script 'torun/Sug_PC60.job' created successfully.\n",
      "SLURM job script 'torun/Sug_PC85.job' created successfully.\n",
      "SLURM job script 'torun/Ric_PCto.job' created successfully.\n",
      "SLURM job script 'torun/Ric_PC26.job' created successfully.\n",
      "SLURM job script 'torun/Ric_PC60.job' created successfully.\n",
      "SLURM job script 'torun/Ric_PC85.job' created successfully.\n",
      "SLURM job script 'torun/Soy_PCto.job' created successfully.\n",
      "SLURM job script 'torun/Soy_PC26.job' created successfully.\n",
      "SLURM job script 'torun/Soy_PC60.job' created successfully.\n",
      "SLURM job script 'torun/Soy_PC85.job' created successfully.\n",
      "SLURM job script 'torun/Sor_PCto.job' created successfully.\n",
      "SLURM job script 'torun/Sor_PC26.job' created successfully.\n",
      "SLURM job script 'torun/Sor_PC60.job' created successfully.\n",
      "SLURM job script 'torun/Sor_PC85.job' created successfully.\n",
      "SLURM job script 'torun/Mai_PCto.job' created successfully.\n",
      "SLURM job script 'torun/Mai_PC26.job' created successfully.\n",
      "SLURM job script 'torun/Mai_PC60.job' created successfully.\n",
      "SLURM job script 'torun/Mai_PC85.job' created successfully.\n",
      "The following jobs are running: ['Whe_PCto.job', 'Whe_PC26.job', 'Whe_PC60.job', 'Whe_PC85.job', 'Bar_PCto.job', 'Bar_PC26.job', 'Bar_PC60.job', 'Bar_PC85.job', 'Pot_PCto.job', 'Pot_PC26.job', 'Pot_PC60.job', 'Pot_PC85.job', 'Sug_PCto.job', 'Sug_PC26.job', 'Sug_PC60.job', 'Sug_PC85.job', 'Ric_PCto.job', 'Ric_PC26.job', 'Ric_PC60.job', 'Ric_PC85.job', 'Soy_PCto.job', 'Soy_PC26.job', 'Soy_PC60.job', 'Soy_PC85.job', 'Sor_PCto.job', 'Sor_PC26.job', 'Sor_PC60.job', 'Sor_PC85.job', 'Mai_PCto.job', 'Mai_PC26.job', 'Mai_PC60.job', 'Mai_PC85.job']\n"
     ]
    }
   ],
   "source": [
    "ssh = connect(user, password)\n",
    "\n",
    "upload_data(ssh, user, gim, 1, gim_path_prefix) # just to check if all data is uploaded correctly, can be removed later\n",
    "\n",
    "submit_job(ssh, user, gim, crops_torun, sces)\n"
   ]
  },
  {
   "cell_type": "code",
   "execution_count": 19,
   "metadata": {},
   "outputs": [],
   "source": [
    "ssh = connect(user, password)"
   ]
  },
  {
   "cell_type": "code",
   "execution_count": 38,
   "metadata": {},
   "outputs": [],
   "source": [
    "# move the job files from running folder to finished folder\n",
    "jobs = os.listdir(f'running/{user}')\n",
    "for jobfile in jobs:\n",
    "    shutil.move(f'running/{user}/{jobfile}', f'finished/{user}/{jobfile}')"
   ]
  },
  {
   "cell_type": "markdown",
   "metadata": {},
   "source": [
    "# Check results\n",
    "\n",
    "## useful commands to check results\n",
    "\n",
    "- `sbatch <script.job>` to submit a job\n",
    "- `squeue -u $USER` to check the status of your jobs\n",
    "- `watch squeue -u $USER` to watch the status of your jobs and refresh every 2 seconds\n",
    "- `scancel <job_id>` to cancel a job\n",
    "- `vi <job_id>.out` to check the output of a job\n",
    "    - `i` to enter the insert mode and edit the file\n",
    "    - `esc` to exit the insert mode or `ctrl+c`\n",
    "    - `:q` to exit the output file without saving\n",
    "    - `:q!` to force exit \n",
    "    - `:wq` to save and exit\n",
    "    \n",
    "## a few more commands for advanced users\n",
    "- `sacct -u $USER` to check the detailed info of your jobs\n",
    "- `scontrol show job <job_id>` to check the status of a specific job"
   ]
  },
  {
   "cell_type": "markdown",
   "metadata": {},
   "source": []
  }
 ],
 "metadata": {
  "kernelspec": {
   "display_name": "Python 3",
   "language": "python",
   "name": "python3"
  },
  "language_info": {
   "codemirror_mode": {
    "name": "ipython",
    "version": 3
   },
   "file_extension": ".py",
   "mimetype": "text/x-python",
   "name": "python",
   "nbconvert_exporter": "python",
   "pygments_lexer": "ipython3",
   "version": "3.11.8"
  }
 },
 "nbformat": 4,
 "nbformat_minor": 2
}
